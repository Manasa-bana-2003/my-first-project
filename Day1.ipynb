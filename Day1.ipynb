{
 "cells": [
  {
   "cell_type": "code",
   "execution_count": 1,
   "id": "a02f5c6a",
   "metadata": {},
   "outputs": [
    {
     "data": {
      "text/plain": [
       "[1, 5, 8, 9]"
      ]
     },
     "execution_count": 1,
     "metadata": {},
     "output_type": "execute_result"
    }
   ],
   "source": [
    "#This can be used as a code editor also as a terminal\n",
    "a = [1,5,8,9]\n",
    "a"
   ]
  },
  {
   "cell_type": "markdown",
   "id": "a75f38e2",
   "metadata": {},
   "source": [
    "#Data Analysis packages -->numpy,pandas,data visualization (matplotlib,plotly)\n",
    "\n",
    "4 Steps in Machine Learning Lifecycle:\n",
    "\n",
    "1)Planning (Understanding the problem statement (gathering data resources)\n",
    "   -->Kaggle,UCI,OpenGov datasets...\n",
    "2)Data Preparation -->Data Retrieval,Data Exploration,Data Cleansing... -->EDA\n",
    "3)Modelling (scikit-learn) -->Model creation,Model validation,Model Evalutation\n",
    "4)Presentation of model (Deployment) -->AWS,Streamlit,Pythonanywhere."
   ]
  },
  {
   "cell_type": "code",
   "execution_count": 4,
   "id": "3e904d2b",
   "metadata": {},
   "outputs": [
    {
     "name": "stdout",
     "output_type": "stream",
     "text": [
      "Collecting numpy\n",
      "  Obtaining dependency information for numpy from https://files.pythonhosted.org/packages/57/09/fe9282ffb0217176b0185900945189b6beaec4f94ff46afb76bcd9b68e30/numpy-1.26.1-cp310-cp310-win_amd64.whl.metadata\n",
      "  Using cached numpy-1.26.1-cp310-cp310-win_amd64.whl.metadata (61 kB)\n",
      "Using cached numpy-1.26.1-cp310-cp310-win_amd64.whl (15.8 MB)\n",
      "Installing collected packages: numpy\n",
      "Successfully installed numpy-1.26.1\n"
     ]
    },
    {
     "name": "stderr",
     "output_type": "stream",
     "text": [
      "\n",
      "[notice] A new release of pip is available: 23.2.1 -> 23.3.1\n",
      "[notice] To update, run: python.exe -m pip install --upgrade pip\n"
     ]
    }
   ],
   "source": [
    "#Installing Numerical Python package (numpy arrays)\n",
    "!pip install numpy"
   ]
  },
  {
   "cell_type": "code",
   "execution_count": 8,
   "id": "9f4bdcd3",
   "metadata": {},
   "outputs": [],
   "source": [
    "#Numpy (Numerical Python) -->Storing data in array format,Faster Processing,\n",
    "#Perform Element wise operations,Statistical functions..\n",
    "#Why numpy arrays are much faster than python lists?\n",
    "a = [1,5,8,96,3]\n",
    "#create two lists with huge elements (1 crore/10 lakhs)\n",
    "L1 = list(range(0,999999))\n",
    "L2 = list(range(0,999999))\n",
    "#As we have two lists above create a new list by adding each element from above list\n",
    "L3= []\n",
    "for i in range(len(L1)):\n",
    "    L3.append(L1[i]+L2[i])\n",
    "#print(L3)"
   ]
  },
  {
   "cell_type": "code",
   "execution_count": 19,
   "id": "8fb5290d",
   "metadata": {},
   "outputs": [
    {
     "name": "stdout",
     "output_type": "stream",
     "text": [
      "Time taken is 531.0392379760742 milliseconds\n"
     ]
    }
   ],
   "source": [
    "#Now to compute time taken -->time module\n",
    "import time\n",
    "#help(time)\n",
    "L1 = list(range(0,999999))\n",
    "L2 = list(range(0,999999))\n",
    "L3 = []\n",
    "start = time.time() #epoch time 1970 Jan1st\n",
    "for i in range(len(L1)):\n",
    "    L3.append(L1[i]+L2[i])\n",
    "end = time.time()\n",
    "#print(end-start)\n",
    "print(\"Time taken is\",(end-start)*1000,\"milliseconds\")"
   ]
  },
  {
   "cell_type": "code",
   "execution_count": 20,
   "id": "59cce415",
   "metadata": {},
   "outputs": [
    {
     "name": "stdout",
     "output_type": "stream",
     "text": [
      "Time taken is 4.0073394775390625 milliseconds\n"
     ]
    }
   ],
   "source": [
    "#Now same above process if we store in arrays using numpy\n",
    "import numpy as np\n",
    "#we create huge elements in numpy array\n",
    "A1 = np.arange(0,999999)\n",
    "A2 = np.arange(0,999999)\n",
    "#add two arrays\n",
    "start = time.time()\n",
    "A3 = A1+A2\n",
    "end = time.time()\n",
    "print(\"Time taken is\",(end-start)*1000,\"milliseconds\")"
   ]
  },
  {
   "cell_type": "code",
   "execution_count": 25,
   "id": "679295a5",
   "metadata": {},
   "outputs": [
    {
     "name": "stdout",
     "output_type": "stream",
     "text": [
      "[ 1  5  8  9 63]\n",
      "<class 'numpy.ndarray'>\n",
      "1\n",
      "5\n"
     ]
    }
   ],
   "source": [
    "#Creation of arrays and element wise operations\n",
    "#Use tab and shift tab\n",
    "a = np.array([1,5,8,9,63])\n",
    "#a\n",
    "print(a)\n",
    "print(type(a))\n",
    "print(a.ndim) #returns dimension of the array\n",
    "print(a.size) #returns number of elementsin the array"
   ]
  },
  {
   "cell_type": "code",
   "execution_count": 29,
   "id": "bcc8db35",
   "metadata": {},
   "outputs": [
    {
     "name": "stdout",
     "output_type": "stream",
     "text": [
      "[[ 1  8  9]\n",
      " [ 1  2  3]\n",
      " [12 -5  6]]\n",
      "2\n",
      "(3, 3)\n"
     ]
    }
   ],
   "source": [
    "#2-dimension arrays\n",
    "a = np.array([[1,8,9],\n",
    "              [1,2,3],\n",
    "             [12,-5,6]]\n",
    "             )\n",
    "print(a)\n",
    "print(a.ndim)\n",
    "#axis - 0 rows,axis-1columns\n",
    "print(a.shape)"
   ]
  },
  {
   "cell_type": "code",
   "execution_count": 31,
   "id": "a0261c18",
   "metadata": {},
   "outputs": [
    {
     "name": "stdout",
     "output_type": "stream",
     "text": [
      "[1 8 9]\n",
      "[[1 8 9]\n",
      " [1 2 3]]\n"
     ]
    }
   ],
   "source": [
    "#Accessing elements in the array -->indexing,slicing\n",
    "print(a[0]) #accessing row-wise \n",
    "print(a[0:2])"
   ]
  },
  {
   "cell_type": "code",
   "execution_count": 37,
   "id": "b2876d86",
   "metadata": {},
   "outputs": [
    {
     "name": "stdout",
     "output_type": "stream",
     "text": [
      "[[ 1  8  9]\n",
      " [ 1  2  3]\n",
      " [12 -5  6]]\n",
      "[ 1  1 12]\n"
     ]
    }
   ],
   "source": [
    "print(a)\n",
    "print(a[0:,0])"
   ]
  },
  {
   "cell_type": "code",
   "execution_count": 39,
   "id": "8138be07",
   "metadata": {},
   "outputs": [
    {
     "name": "stdout",
     "output_type": "stream",
     "text": [
      "[[ 2  3]\n",
      " [-5  6]]\n"
     ]
    }
   ],
   "source": [
    "#Accessing 2nd and 3rd row-wise/column-wise elements\n",
    "print(a[1:,1:])"
   ]
  },
  {
   "cell_type": "code",
   "execution_count": 43,
   "id": "ba7a4767",
   "metadata": {},
   "outputs": [],
   "source": [
    "#Mathematical operations and Statistical functions over arrays\n",
    "b = np.arange(0,9)\n",
    "#b\n",
    "#convert 1-d to 2-d\n",
    "b = b.reshape(3,3)\n",
    "#b\n",
    "b = np.arange(0,9).reshape(3,3)\n",
    "#b"
   ]
  },
  {
   "cell_type": "code",
   "execution_count": 42,
   "id": "3fc42c1a",
   "metadata": {},
   "outputs": [
    {
     "data": {
      "text/plain": [
       "array([[ 1,  8,  9],\n",
       "       [ 1,  2,  3],\n",
       "       [12, -5,  6]])"
      ]
     },
     "execution_count": 42,
     "metadata": {},
     "output_type": "execute_result"
    }
   ],
   "source": [
    "a"
   ]
  },
  {
   "cell_type": "code",
   "execution_count": 47,
   "id": "15cf7257",
   "metadata": {},
   "outputs": [
    {
     "name": "stdout",
     "output_type": "stream",
     "text": [
      "[[  0   8  18]\n",
      " [  3   8  15]\n",
      " [ 72 -35  48]]\n"
     ]
    }
   ],
   "source": [
    "#print(a+b)\n",
    "#print(np.add(a,b))\n",
    "#print(np.subtract(a,b))\n",
    "print(np.multiply(a,b)) #element wise multiplication"
   ]
  },
  {
   "cell_type": "code",
   "execution_count": 48,
   "id": "1626fd5d",
   "metadata": {},
   "outputs": [
    {
     "data": {
      "text/plain": [
       "array([[ 1,  8,  9],\n",
       "       [ 1,  2,  3],\n",
       "       [12, -5,  6]])"
      ]
     },
     "execution_count": 48,
     "metadata": {},
     "output_type": "execute_result"
    }
   ],
   "source": [
    "#mean(),variance(),std(),min(),max(),minimum(),maximum()\n",
    "a"
   ]
  },
  {
   "cell_type": "code",
   "execution_count": 51,
   "id": "f70d3271",
   "metadata": {},
   "outputs": [
    {
     "name": "stdout",
     "output_type": "stream",
     "text": [
      "4.111111111111111\n",
      "[4.66666667 1.66666667 6.        ]\n",
      "[6.         2.         4.33333333]\n"
     ]
    }
   ],
   "source": [
    "print(np.mean(a)) #sum of all elements / total of elements\n",
    "print(np.mean(a,axis=0)) #row-wise (vertical)\n",
    "print(np.mean(a,axis=1)) #column-wise (horizontal)"
   ]
  },
  {
   "cell_type": "code",
   "execution_count": 53,
   "id": "a53c1aea",
   "metadata": {},
   "outputs": [
    {
     "name": "stdout",
     "output_type": "stream",
     "text": [
      "23.65432098765432\n",
      "4.863570806275398\n"
     ]
    }
   ],
   "source": [
    "print(np.var(a)) #how far the values are differing from mean\n",
    "print(np.std(a)) #sqrt of variance"
   ]
  },
  {
   "cell_type": "code",
   "execution_count": 57,
   "id": "ece0a5a1",
   "metadata": {},
   "outputs": [
    {
     "name": "stdout",
     "output_type": "stream",
     "text": [
      "[[ 1  8  9]\n",
      " [ 1  2  3]\n",
      " [12 -5  6]]\n",
      "[[0 1 2]\n",
      " [3 4 5]\n",
      " [6 7 8]]\n",
      "-5\n",
      "[[ 0  1  2]\n",
      " [ 1  2  3]\n",
      " [ 6 -5  6]]\n"
     ]
    }
   ],
   "source": [
    "print(a)\n",
    "print(b)\n",
    "print(np.min(a))\n",
    "print(np.minimum(a,b)) #compare each element from both array and return new array"
   ]
  },
  {
   "cell_type": "code",
   "execution_count": 58,
   "id": "ec298f15",
   "metadata": {},
   "outputs": [],
   "source": [
    "#Be confident on transformations,basic functions on numpy arrays\n",
    "#Refer Numpy documentation -->numpy.org"
   ]
  },
  {
   "cell_type": "markdown",
   "metadata": {},
   "source": [
    "In 2008, developer Wes McKinney started developing pandas when in need of high\n",
    "performance, flexible tool for analysis of data.\n",
    "\n",
    "Pandas gives Python the ability to work with spreadsheet-like data for fast data \n",
    "loading,manipulating,aligning and merging\n",
    "\n",
    "**Series and DataFrame**\n",
    "\n",
    "DataFrame respresents entire spreadsheet whereas Series is a single column of the dataframe\n",
    "\n",
    "#Pandas -->Series(1 dimensional data representation) (column in a table)\n",
    "#DataFrame -->2 dimensional data representation (table consisting of rows and columns)"
   ]
  },
  {
   "cell_type": "code",
   "execution_count": 59,
   "id": "e1fe99eb",
   "metadata": {},
   "outputs": [
    {
     "name": "stdout",
     "output_type": "stream",
     "text": [
      "Collecting pandas\n",
      "  Obtaining dependency information for pandas from https://files.pythonhosted.org/packages/c4/3a/b84f90ba24d50cbbe79982d5298fb82f6208e2d85bed86b165192fc0f620/pandas-2.1.2-cp310-cp310-win_amd64.whl.metadata\n",
      "  Using cached pandas-2.1.2-cp310-cp310-win_amd64.whl.metadata (18 kB)\n",
      "Requirement already satisfied: numpy<2,>=1.22.4 in c:\\users\\codeg\\desktop\\nbkr\\saketh\\lib\\site-packages (from pandas) (1.26.1)\n",
      "Collecting python-dateutil>=2.8.2 (from pandas)\n",
      "  Using cached python_dateutil-2.8.2-py2.py3-none-any.whl (247 kB)\n",
      "Collecting pytz>=2020.1 (from pandas)\n",
      "  Obtaining dependency information for pytz>=2020.1 from https://files.pythonhosted.org/packages/32/4d/aaf7eff5deb402fd9a24a1449a8119f00d74ae9c2efa79f8ef9994261fc2/pytz-2023.3.post1-py2.py3-none-any.whl.metadata\n",
      "  Using cached pytz-2023.3.post1-py2.py3-none-any.whl.metadata (22 kB)\n",
      "Collecting tzdata>=2022.1 (from pandas)\n",
      "  Using cached tzdata-2023.3-py2.py3-none-any.whl (341 kB)\n",
      "Requirement already satisfied: six>=1.5 in c:\\users\\codeg\\desktop\\nbkr\\saketh\\lib\\site-packages (from python-dateutil>=2.8.2->pandas) (1.16.0)\n",
      "Using cached pandas-2.1.2-cp310-cp310-win_amd64.whl (10.7 MB)\n",
      "Using cached pytz-2023.3.post1-py2.py3-none-any.whl (502 kB)\n",
      "Installing collected packages: pytz, tzdata, python-dateutil, pandas\n",
      "Successfully installed pandas-2.1.2 python-dateutil-2.8.2 pytz-2023.3.post1 tzdata-2023.3\n"
     ]
    },
    {
     "name": "stderr",
     "output_type": "stream",
     "text": [
      "\n",
      "[notice] A new release of pip is available: 23.2.1 -> 23.3.1\n",
      "[notice] To update, run: python.exe -m pip install --upgrade pip\n"
     ]
    }
   ],
   "source": [
    "#Pandas ->[Panel data (2008) Wes Mckinney]\n",
    "#1-Dimensional data -->Series\n",
    "#2-Dimensional data -->DataFrame\n",
    "!pip install pandas"
   ]
  },
  {
   "cell_type": "code",
   "execution_count": 60,
   "id": "5155d8a5",
   "metadata": {},
   "outputs": [],
   "source": [
    "import pandas as pd"
   ]
  },
  {
   "cell_type": "code",
   "execution_count": 67,
   "id": "adc5c60c",
   "metadata": {},
   "outputs": [],
   "source": [
    "a = [1,5,8,9,63] #you can take list,1-D array,tuple,dictionary,scalar\n",
    "b = pd.Series(a) \n",
    "#print(b)\n",
    "#print(type(b))\n",
    "#print(type(b.values))\n",
    "#print(b.index)"
   ]
  },
  {
   "cell_type": "code",
   "execution_count": 69,
   "id": "a82a4901",
   "metadata": {},
   "outputs": [
    {
     "name": "stdout",
     "output_type": "stream",
     "text": [
      "name       Codegnan\n",
      "college        nbkr\n",
      "dtype: object\n",
      "['Codegnan' 'nbkr']\n"
     ]
    }
   ],
   "source": [
    "data = {'name':'Codegnan','college':'nbkr'}\n",
    "b = pd.Series(data) #keys will be the index\n",
    "print(b)\n",
    "#print(b.values)"
   ]
  },
  {
   "cell_type": "code",
   "execution_count": 70,
   "id": "ca2aaa49",
   "metadata": {},
   "outputs": [
    {
     "data": {
      "text/html": [
       "<div>\n",
       "<style scoped>\n",
       "    .dataframe tbody tr th:only-of-type {\n",
       "        vertical-align: middle;\n",
       "    }\n",
       "\n",
       "    .dataframe tbody tr th {\n",
       "        vertical-align: top;\n",
       "    }\n",
       "\n",
       "    .dataframe thead th {\n",
       "        text-align: right;\n",
       "    }\n",
       "</style>\n",
       "<table border=\"1\" class=\"dataframe\">\n",
       "  <thead>\n",
       "    <tr style=\"text-align: right;\">\n",
       "      <th></th>\n",
       "      <th>PassengerId</th>\n",
       "      <th>Survived</th>\n",
       "      <th>Pclass</th>\n",
       "      <th>Name</th>\n",
       "      <th>Sex</th>\n",
       "      <th>Age</th>\n",
       "      <th>SibSp</th>\n",
       "      <th>Parch</th>\n",
       "      <th>Ticket</th>\n",
       "      <th>Fare</th>\n",
       "      <th>Cabin</th>\n",
       "      <th>Embarked</th>\n",
       "    </tr>\n",
       "  </thead>\n",
       "  <tbody>\n",
       "    <tr>\n",
       "      <th>0</th>\n",
       "      <td>1</td>\n",
       "      <td>0</td>\n",
       "      <td>3</td>\n",
       "      <td>Braund, Mr. Owen Harris</td>\n",
       "      <td>male</td>\n",
       "      <td>22.0</td>\n",
       "      <td>1</td>\n",
       "      <td>0</td>\n",
       "      <td>A/5 21171</td>\n",
       "      <td>7.2500</td>\n",
       "      <td>NaN</td>\n",
       "      <td>S</td>\n",
       "    </tr>\n",
       "    <tr>\n",
       "      <th>1</th>\n",
       "      <td>2</td>\n",
       "      <td>1</td>\n",
       "      <td>1</td>\n",
       "      <td>Cumings, Mrs. John Bradley (Florence Briggs Th...</td>\n",
       "      <td>female</td>\n",
       "      <td>38.0</td>\n",
       "      <td>1</td>\n",
       "      <td>0</td>\n",
       "      <td>PC 17599</td>\n",
       "      <td>71.2833</td>\n",
       "      <td>C85</td>\n",
       "      <td>C</td>\n",
       "    </tr>\n",
       "    <tr>\n",
       "      <th>2</th>\n",
       "      <td>3</td>\n",
       "      <td>1</td>\n",
       "      <td>3</td>\n",
       "      <td>Heikkinen, Miss. Laina</td>\n",
       "      <td>female</td>\n",
       "      <td>26.0</td>\n",
       "      <td>0</td>\n",
       "      <td>0</td>\n",
       "      <td>STON/O2. 3101282</td>\n",
       "      <td>7.9250</td>\n",
       "      <td>NaN</td>\n",
       "      <td>S</td>\n",
       "    </tr>\n",
       "    <tr>\n",
       "      <th>3</th>\n",
       "      <td>4</td>\n",
       "      <td>1</td>\n",
       "      <td>1</td>\n",
       "      <td>Futrelle, Mrs. Jacques Heath (Lily May Peel)</td>\n",
       "      <td>female</td>\n",
       "      <td>35.0</td>\n",
       "      <td>1</td>\n",
       "      <td>0</td>\n",
       "      <td>113803</td>\n",
       "      <td>53.1000</td>\n",
       "      <td>C123</td>\n",
       "      <td>S</td>\n",
       "    </tr>\n",
       "    <tr>\n",
       "      <th>4</th>\n",
       "      <td>5</td>\n",
       "      <td>0</td>\n",
       "      <td>3</td>\n",
       "      <td>Allen, Mr. William Henry</td>\n",
       "      <td>male</td>\n",
       "      <td>35.0</td>\n",
       "      <td>0</td>\n",
       "      <td>0</td>\n",
       "      <td>373450</td>\n",
       "      <td>8.0500</td>\n",
       "      <td>NaN</td>\n",
       "      <td>S</td>\n",
       "    </tr>\n",
       "    <tr>\n",
       "      <th>...</th>\n",
       "      <td>...</td>\n",
       "      <td>...</td>\n",
       "      <td>...</td>\n",
       "      <td>...</td>\n",
       "      <td>...</td>\n",
       "      <td>...</td>\n",
       "      <td>...</td>\n",
       "      <td>...</td>\n",
       "      <td>...</td>\n",
       "      <td>...</td>\n",
       "      <td>...</td>\n",
       "      <td>...</td>\n",
       "    </tr>\n",
       "    <tr>\n",
       "      <th>886</th>\n",
       "      <td>887</td>\n",
       "      <td>0</td>\n",
       "      <td>2</td>\n",
       "      <td>Montvila, Rev. Juozas</td>\n",
       "      <td>male</td>\n",
       "      <td>27.0</td>\n",
       "      <td>0</td>\n",
       "      <td>0</td>\n",
       "      <td>211536</td>\n",
       "      <td>13.0000</td>\n",
       "      <td>NaN</td>\n",
       "      <td>S</td>\n",
       "    </tr>\n",
       "    <tr>\n",
       "      <th>887</th>\n",
       "      <td>888</td>\n",
       "      <td>1</td>\n",
       "      <td>1</td>\n",
       "      <td>Graham, Miss. Margaret Edith</td>\n",
       "      <td>female</td>\n",
       "      <td>19.0</td>\n",
       "      <td>0</td>\n",
       "      <td>0</td>\n",
       "      <td>112053</td>\n",
       "      <td>30.0000</td>\n",
       "      <td>B42</td>\n",
       "      <td>S</td>\n",
       "    </tr>\n",
       "    <tr>\n",
       "      <th>888</th>\n",
       "      <td>889</td>\n",
       "      <td>0</td>\n",
       "      <td>3</td>\n",
       "      <td>Johnston, Miss. Catherine Helen \"Carrie\"</td>\n",
       "      <td>female</td>\n",
       "      <td>NaN</td>\n",
       "      <td>1</td>\n",
       "      <td>2</td>\n",
       "      <td>W./C. 6607</td>\n",
       "      <td>23.4500</td>\n",
       "      <td>NaN</td>\n",
       "      <td>S</td>\n",
       "    </tr>\n",
       "    <tr>\n",
       "      <th>889</th>\n",
       "      <td>890</td>\n",
       "      <td>1</td>\n",
       "      <td>1</td>\n",
       "      <td>Behr, Mr. Karl Howell</td>\n",
       "      <td>male</td>\n",
       "      <td>26.0</td>\n",
       "      <td>0</td>\n",
       "      <td>0</td>\n",
       "      <td>111369</td>\n",
       "      <td>30.0000</td>\n",
       "      <td>C148</td>\n",
       "      <td>C</td>\n",
       "    </tr>\n",
       "    <tr>\n",
       "      <th>890</th>\n",
       "      <td>891</td>\n",
       "      <td>0</td>\n",
       "      <td>3</td>\n",
       "      <td>Dooley, Mr. Patrick</td>\n",
       "      <td>male</td>\n",
       "      <td>32.0</td>\n",
       "      <td>0</td>\n",
       "      <td>0</td>\n",
       "      <td>370376</td>\n",
       "      <td>7.7500</td>\n",
       "      <td>NaN</td>\n",
       "      <td>Q</td>\n",
       "    </tr>\n",
       "  </tbody>\n",
       "</table>\n",
       "<p>891 rows × 12 columns</p>\n",
       "</div>"
      ],
      "text/plain": [
       "     PassengerId  Survived  Pclass  \\\n",
       "0              1         0       3   \n",
       "1              2         1       1   \n",
       "2              3         1       3   \n",
       "3              4         1       1   \n",
       "4              5         0       3   \n",
       "..           ...       ...     ...   \n",
       "886          887         0       2   \n",
       "887          888         1       1   \n",
       "888          889         0       3   \n",
       "889          890         1       1   \n",
       "890          891         0       3   \n",
       "\n",
       "                                                  Name     Sex   Age  SibSp  \\\n",
       "0                              Braund, Mr. Owen Harris    male  22.0      1   \n",
       "1    Cumings, Mrs. John Bradley (Florence Briggs Th...  female  38.0      1   \n",
       "2                               Heikkinen, Miss. Laina  female  26.0      0   \n",
       "3         Futrelle, Mrs. Jacques Heath (Lily May Peel)  female  35.0      1   \n",
       "4                             Allen, Mr. William Henry    male  35.0      0   \n",
       "..                                                 ...     ...   ...    ...   \n",
       "886                              Montvila, Rev. Juozas    male  27.0      0   \n",
       "887                       Graham, Miss. Margaret Edith  female  19.0      0   \n",
       "888           Johnston, Miss. Catherine Helen \"Carrie\"  female   NaN      1   \n",
       "889                              Behr, Mr. Karl Howell    male  26.0      0   \n",
       "890                                Dooley, Mr. Patrick    male  32.0      0   \n",
       "\n",
       "     Parch            Ticket     Fare Cabin Embarked  \n",
       "0        0         A/5 21171   7.2500   NaN        S  \n",
       "1        0          PC 17599  71.2833   C85        C  \n",
       "2        0  STON/O2. 3101282   7.9250   NaN        S  \n",
       "3        0            113803  53.1000  C123        S  \n",
       "4        0            373450   8.0500   NaN        S  \n",
       "..     ...               ...      ...   ...      ...  \n",
       "886      0            211536  13.0000   NaN        S  \n",
       "887      0            112053  30.0000   B42        S  \n",
       "888      2        W./C. 6607  23.4500   NaN        S  \n",
       "889      0            111369  30.0000  C148        C  \n",
       "890      0            370376   7.7500   NaN        Q  \n",
       "\n",
       "[891 rows x 12 columns]"
      ]
     },
     "execution_count": 70,
     "metadata": {},
     "output_type": "execute_result"
    }
   ],
   "source": [
    "#2-Dimensional tabular data -->DataFrame (read excel or cvs files -->read_csv/read_excel)\n",
    "#Case Study on EDA (Exploratory Data Analysis) -->Titanic\n",
    "data = pd.read_csv('titanic.csv')\n",
    "data"
   ]
  },
  {
   "cell_type": "code",
   "execution_count": 73,
   "id": "890c2733",
   "metadata": {},
   "outputs": [
    {
     "name": "stdout",
     "output_type": "stream",
     "text": [
      "<class 'pandas.core.frame.DataFrame'>\n",
      "RangeIndex: 891 entries, 0 to 890\n",
      "Data columns (total 12 columns):\n",
      " #   Column       Non-Null Count  Dtype  \n",
      "---  ------       --------------  -----  \n",
      " 0   PassengerId  891 non-null    int64  \n",
      " 1   Survived     891 non-null    int64  \n",
      " 2   Pclass       891 non-null    int64  \n",
      " 3   Name         891 non-null    object \n",
      " 4   Sex          891 non-null    object \n",
      " 5   Age          714 non-null    float64\n",
      " 6   SibSp        891 non-null    int64  \n",
      " 7   Parch        891 non-null    int64  \n",
      " 8   Ticket       891 non-null    object \n",
      " 9   Fare         891 non-null    float64\n",
      " 10  Cabin        204 non-null    object \n",
      " 11  Embarked     889 non-null    object \n",
      "dtypes: float64(2), int64(5), object(5)\n",
      "memory usage: 83.7+ KB\n"
     ]
    }
   ],
   "source": [
    "#You need to get the complete information from the dataframe\n",
    "type(data)\n",
    "#data.ndim\n",
    "data.info()"
   ]
  },
  {
   "cell_type": "code",
   "execution_count": 74,
   "id": "b9add024",
   "metadata": {},
   "outputs": [
    {
     "data": {
      "text/plain": [
       "Index(['PassengerId', 'Survived', 'Pclass', 'Name', 'Sex', 'Age', 'SibSp',\n",
       "       'Parch', 'Ticket', 'Fare', 'Cabin', 'Embarked'],\n",
       "      dtype='object')"
      ]
     },
     "execution_count": 74,
     "metadata": {},
     "output_type": "execute_result"
    }
   ],
   "source": [
    "#Access column wise data from above data\n",
    "data.columns #returns columns within the dataframe"
   ]
  },
  {
   "cell_type": "code",
   "execution_count": 77,
   "id": "732937e2",
   "metadata": {},
   "outputs": [
    {
     "data": {
      "text/plain": [
       "0    549\n",
       "1    342\n",
       "Name: Survived, dtype: int64"
      ]
     },
     "execution_count": 77,
     "metadata": {},
     "output_type": "execute_result"
    }
   ],
   "source": [
    "data['Survived']\n",
    "#Need to get the categorical count from the column\n",
    "data['Survived'].value_counts()"
   ]
  },
  {
   "cell_type": "code",
   "execution_count": 78,
   "id": "7566a825",
   "metadata": {},
   "outputs": [
    {
     "data": {
      "text/plain": [
       "S    644\n",
       "C    168\n",
       "Q     77\n",
       "Name: Embarked, dtype: int64"
      ]
     },
     "execution_count": 78,
     "metadata": {},
     "output_type": "execute_result"
    }
   ],
   "source": [
    "data['Embarked'].value_counts() "
   ]
  },
  {
   "cell_type": "code",
   "execution_count": 79,
   "id": "632e5707",
   "metadata": {},
   "outputs": [
    {
     "data": {
      "text/plain": [
       "male      577\n",
       "female    314\n",
       "Name: Sex, dtype: int64"
      ]
     },
     "execution_count": 79,
     "metadata": {},
     "output_type": "execute_result"
    }
   ],
   "source": [
    "data['Sex'].value_counts()"
   ]
  },
  {
   "cell_type": "code",
   "execution_count": 80,
   "id": "22e81162",
   "metadata": {},
   "outputs": [
    {
     "data": {
      "text/plain": [
       "3    491\n",
       "1    216\n",
       "2    184\n",
       "Name: Pclass, dtype: int64"
      ]
     },
     "execution_count": 80,
     "metadata": {},
     "output_type": "execute_result"
    }
   ],
   "source": [
    "data['Pclass'].value_counts()"
   ]
  },
  {
   "cell_type": "code",
   "execution_count": 82,
   "id": "fcd2cf21",
   "metadata": {},
   "outputs": [],
   "source": [
    "#data['Age'].value_counts()"
   ]
  },
  {
   "cell_type": "code",
   "execution_count": null,
   "id": "e3caea2c",
   "metadata": {},
   "outputs": [],
   "source": [
    "#To get better insights before we start Modifications on the dataframe we go\n",
    "#for data visualization (matplotlib,plotly)\n"
   ]
  }
 ],
 "metadata": {
  "kernelspec": {
   "display_name": "Python 3 (ipykernel)",
   "language": "python",
   "name": "python3"
  },
  "language_info": {
   "codemirror_mode": {
    "name": "ipython",
    "version": 3
   },
   "file_extension": ".py",
   "mimetype": "text/x-python",
   "name": "python",
   "nbconvert_exporter": "python",
   "pygments_lexer": "ipython3",
   "version": "3.10.7"
  }
 },
 "nbformat": 4,
 "nbformat_minor": 5
}
